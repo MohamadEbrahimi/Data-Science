{
 "cells": [
  {
   "cell_type": "markdown",
   "id": "2c8243f4",
   "metadata": {},
   "source": [
    "# Peer-graded Assignment"
   ]
  },
  {
   "cell_type": "markdown",
   "id": "3199daa5",
   "metadata": {},
   "source": [
    "Introduction :\n",
    "This is my courcera Assignment\n",
    "\n"
   ]
  },
  {
   "cell_type": "markdown",
   "id": "5b486f41",
   "metadata": {},
   "source": [
    "Data science languages :\n",
    "- python\n",
    "- R\n"
   ]
  },
  {
   "cell_type": "markdown",
   "id": "b9a6d1d8",
   "metadata": {},
   "source": [
    "Data science libraries:\n",
    "- numpy\n",
    "- panda"
   ]
  },
  {
   "cell_type": "markdown",
   "id": "0c93d31f",
   "metadata": {},
   "source": [
    "Data Science tools :\n",
    "| --- | --- | --- |\n",
    "| jupyter notebook | pandas | Apache Spark\n",
    "| matplotlib | pytorch | pandas"
   ]
  },
  {
   "cell_type": "markdown",
   "id": "571f7609",
   "metadata": {},
   "source": [
    "introducing arithmetic expression examples:\n",
    "2 + 2 = 4\n",
    "2 + ( 2 + 2 ) = 6\n",
    "2 + ( 2 * 2 ) = 6\n",
    "2 * 2 * 2 = 8\n",
    "2 * 2 + 2 = 6\n",
    "3 + ( 3 + 3 ) = 9\n",
    "3 + ( 3 * 3) = 12"
   ]
  },
  {
   "cell_type": "code",
   "execution_count": null,
   "id": "f28b1c13",
   "metadata": {},
   "outputs": [],
   "source": [
    "#multiply and add numbers :\n",
    "a = 2\n",
    "b = 3\n",
    "c = a * b\n",
    "d = a + b"
   ]
  },
  {
   "cell_type": "code",
   "execution_count": 11,
   "id": "ef8e2cba",
   "metadata": {},
   "outputs": [
    {
     "name": "stdout",
     "output_type": "stream",
     "text": [
      "3\n"
     ]
    }
   ],
   "source": [
    "#convert minutes to hours\n",
    "minu = 220 \n",
    "hour = minu // 60\n",
    "print(hour)"
   ]
  },
  {
   "cell_type": "markdown",
   "id": "3358535a",
   "metadata": {},
   "source": [
    "Objectives:\n",
    "- improve my ability\n",
    "- take a certificate\n",
    "- find a better job\n"
   ]
  },
  {
   "cell_type": "markdown",
   "id": "34380e61",
   "metadata": {},
   "source": [
    "Author :\n",
    "Mohamad Ebrahimi Siahboomi\n",
    "16/06/2024"
   ]
  }
 ],
 "metadata": {
  "kernelspec": {
   "display_name": "Python 3 (ipykernel)",
   "language": "python",
   "name": "python3"
  },
  "language_info": {
   "codemirror_mode": {
    "name": "ipython",
    "version": 3
   },
   "file_extension": ".py",
   "mimetype": "text/x-python",
   "name": "python",
   "nbconvert_exporter": "python",
   "pygments_lexer": "ipython3",
   "version": "3.9.12"
  }
 },
 "nbformat": 4,
 "nbformat_minor": 5
}
