{
 "cells": [
  {
   "cell_type": "markdown",
   "id": "2c8243f4",
   "metadata": {},
   "source": [
    "# Peer-graded Assignment"
   ]
  },
  {
   "cell_type": "markdown",
   "id": "3199daa5",
   "metadata": {},
   "source": [
    "Introduction :\n",
    "This is my coursera Assignment.\n",
    "In this notebook DataScience tools and Ecosystem are summarized."
   ]
  },
  {
   "cell_type": "markdown",
   "id": "5b486f41",
   "metadata": {},
   "source": [
    "Data science languages :\n",
    "python\n",
    "R\n",
    "SQL\n",
    "Scala\n",
    "Java\n",
    "C++\n",
    "PHP\n",
    "Ruby\n",
    "Go\n",
    "Visual Basic"
   ]
  },
  {
   "cell_type": "markdown",
   "id": "b9a6d1d8",
   "metadata": {},
   "source": [
    "Data science libraries:\n",
    "numpy\n",
    "panda\n",
    "matplotlib\n",
    "Numpy\n",
    "Seaborn\n",
    "Keras\n",
    "Scikit-learn\n",
    "Tenser Flow\n",
    "pytorch\n",
    "Vegas\n",
    "Big DL"
   ]
  },
  {
   "cell_type": "markdown",
   "id": "0c93d31f",
   "metadata": {},
   "source": [
    "Data Science tools :\n",
    "- Anaconda\n",
    "- Jupyter Notebook\n",
    "- R Studio\n",
    "- Spyder\n",
    "- Zeppelin"
   ]
  },
  {
   "cell_type": "markdown",
   "id": "571f7609",
   "metadata": {},
   "source": [
    "Below are a few exampels of evaluating arithmatic expression in python."
   ]
  },
  {
   "cell_type": "code",
   "execution_count": null,
   "id": "f28b1c13",
   "metadata": {},
   "outputs": [],
   "source": [
    "#multiply and add numbers :\n",
    "a = 2\n",
    "b = 3\n",
    "c = a * b\n",
    "d = a + b"
   ]
  },
  {
   "cell_type": "code",
   "execution_count": 5,
   "id": "ef8e2cba",
   "metadata": {},
   "outputs": [],
   "source": [
    "#convert minutes to hours\n",
    "minu = 240 \n",
    "hour = minu / 60"
   ]
  },
  {
   "cell_type": "markdown",
   "id": "3358535a",
   "metadata": {},
   "source": [
    "Objectives:\n",
    "- I like to improve my ability.\n",
    "- I'm so intrested to take a certificate.\n",
    "- I wish that I can find a better job."
   ]
  },
  {
   "cell_type": "markdown",
   "id": "34380e61",
   "metadata": {},
   "source": [
    "Author :\n",
    "Mohamad Ebrahimi Siahboomi\n",
    "22/06/2024"
   ]
  }
 ],
 "metadata": {
  "kernelspec": {
   "display_name": "Python 3 (ipykernel)",
   "language": "python",
   "name": "python3"
  },
  "language_info": {
   "codemirror_mode": {
    "name": "ipython",
    "version": 3
   },
   "file_extension": ".py",
   "mimetype": "text/x-python",
   "name": "python",
   "nbconvert_exporter": "python",
   "pygments_lexer": "ipython3",
   "version": "3.9.12"
  }
 },
 "nbformat": 4,
 "nbformat_minor": 5
}
